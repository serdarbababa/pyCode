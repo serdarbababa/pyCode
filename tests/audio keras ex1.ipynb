{
 "cells": [
  {
   "cell_type": "code",
   "execution_count": 2,
   "metadata": {},
   "outputs": [],
   "source": [
    "# importing all the dependencies\n",
    "import pandas as pd # data frame\n",
    "import numpy as np # matrix math\n",
    "from glob import glob # file handling\n",
    "import librosa # audio manipulation\n",
    "from sklearn.utils import shuffle # shuffling of data\n",
    "import os # interation with the OS\n",
    "from random import sample # random selection\n",
    "#from tqdm import tqdm\n"
   ]
  },
  {
   "cell_type": "code",
   "execution_count": 4,
   "metadata": {},
   "outputs": [
    {
     "name": "stdout",
     "output_type": "stream",
     "text": [
      "sample_submission.7z\n",
      "sample_submission.csv\n",
      "test\n",
      "test.7z\n",
      "train\n",
      "train.7z\n",
      "\n"
     ]
    }
   ],
   "source": [
    "from subprocess import check_output\n",
    "print(check_output([\"ls\", \"../input\"]).decode(\"utf8\"))\n",
    "\n",
    "#/home/ser/Documents/input"
   ]
  },
  {
   "cell_type": "code",
   "execution_count": 5,
   "metadata": {},
   "outputs": [
    {
     "data": {
      "text/html": [
       "<div>\n",
       "<style scoped>\n",
       "    .dataframe tbody tr th:only-of-type {\n",
       "        vertical-align: middle;\n",
       "    }\n",
       "\n",
       "    .dataframe tbody tr th {\n",
       "        vertical-align: top;\n",
       "    }\n",
       "\n",
       "    .dataframe thead th {\n",
       "        text-align: right;\n",
       "    }\n",
       "</style>\n",
       "<table border=\"1\" class=\"dataframe\">\n",
       "  <thead>\n",
       "    <tr style=\"text-align: right;\">\n",
       "      <th></th>\n",
       "      <th>fname</th>\n",
       "      <th>label</th>\n",
       "    </tr>\n",
       "  </thead>\n",
       "  <tbody>\n",
       "    <tr>\n",
       "      <th>0</th>\n",
       "      <td>clip_000044442.wav</td>\n",
       "      <td>silence</td>\n",
       "    </tr>\n",
       "    <tr>\n",
       "      <th>1</th>\n",
       "      <td>clip_0000adecb.wav</td>\n",
       "      <td>silence</td>\n",
       "    </tr>\n",
       "    <tr>\n",
       "      <th>2</th>\n",
       "      <td>clip_0000d4322.wav</td>\n",
       "      <td>silence</td>\n",
       "    </tr>\n",
       "    <tr>\n",
       "      <th>3</th>\n",
       "      <td>clip_0000fb6fe.wav</td>\n",
       "      <td>silence</td>\n",
       "    </tr>\n",
       "    <tr>\n",
       "      <th>4</th>\n",
       "      <td>clip_0001d1559.wav</td>\n",
       "      <td>silence</td>\n",
       "    </tr>\n",
       "  </tbody>\n",
       "</table>\n",
       "</div>"
      ],
      "text/plain": [
       "                fname    label\n",
       "0  clip_000044442.wav  silence\n",
       "1  clip_0000adecb.wav  silence\n",
       "2  clip_0000d4322.wav  silence\n",
       "3  clip_0000fb6fe.wav  silence\n",
       "4  clip_0001d1559.wav  silence"
      ]
     },
     "execution_count": 5,
     "metadata": {},
     "output_type": "execute_result"
    }
   ],
   "source": [
    "ss = pd.read_csv('../input/sample_submission.csv')\n",
    "ss.head()"
   ]
  },
  {
   "cell_type": "code",
   "execution_count": 6,
   "metadata": {},
   "outputs": [
    {
     "name": "stdout",
     "output_type": "stream",
     "text": [
      "../input/:\r\n",
      "total 3678324\r\n",
      "-rw-rw-r-- 1 ser ser     512684 May  6 16:30 sample_submission.7z\r\n",
      "-rw-rw-r-- 1 ser ser    4280538 Nov 14  2017 sample_submission.csv\r\n",
      "drwxrwxr-x 3 ser ser       4096 Nov 14  2017 test\r\n",
      "-rw-rw-r-- 1 ser ser 2640679130 May  6 16:49 test.7z\r\n",
      "drwxr-xr-x 3 ser ser       4096 Nov 13  2017 train\r\n",
      "-rw-rw-r-- 1 ser ser 1121103842 May  6 16:41 train.7z\r\n",
      "\r\n",
      "../input/train:\r\n",
      "total 392\r\n",
      "drwxr-xr-x 33 ser ser   4096 Nov 13  2017 audio\r\n",
      "-rw-r--r--  1 ser ser  18651 Nov 13  2017 LICENSE\r\n",
      "-rw-r--r--  1 ser ser   7888 Nov 13  2017 README.md\r\n",
      "-rw-r--r--  1 ser ser 182590 Nov 13  2017 testing_list.txt\r\n",
      "-rw-r--r--  1 ser ser 181550 Nov 13  2017 validation_list.txt\r\n"
     ]
    }
   ],
   "source": [
    "!ls -l ../input/ ../input/train"
   ]
  },
  {
   "cell_type": "code",
   "execution_count": 7,
   "metadata": {},
   "outputs": [
    {
     "name": "stdout",
     "output_type": "stream",
     "text": [
      "_background_noise_/  dog/    four/   left/    off/    seven/   three/  wow/\r\n",
      "bed/\t\t     down/   go/     marvin/  on/     sheila/  tree/   yes/\r\n",
      "bird/\t\t     eight/  happy/  nine/    one/    six/     two/    zero/\r\n",
      "cat/\t\t     five/   house/  no/      right/  stop/    up/\r\n"
     ]
    }
   ],
   "source": [
    "!ls -F ../input/train/audio"
   ]
  },
  {
   "cell_type": "code",
   "execution_count": 8,
   "metadata": {},
   "outputs": [
    {
     "name": "stdout",
     "output_type": "stream",
     "text": [
      "30 ['bed', 'bird', 'cat', 'dog', 'down', 'eight', 'five', 'four', 'go', 'happy', 'house', 'left', 'marvin', 'nine', 'no', 'off', 'on', 'one', 'right', 'seven', 'sheila', 'six', 'stop', 'three', 'tree', 'two', 'up', 'wow', 'yes', 'zero']\n"
     ]
    }
   ],
   "source": [
    "import os\n",
    "labels_ = !ls -d ../input/train/audio/[a-z]*/\n",
    "labels = [os.path.basename(os.path.dirname(p)) for p in labels_]\n",
    "print(len(labels), labels)"
   ]
  },
  {
   "cell_type": "code",
   "execution_count": 9,
   "metadata": {},
   "outputs": [
    {
     "name": "stdout",
     "output_type": "stream",
     "text": [
      "bed/0c40e715_nohash_0.wav\r\n",
      "bed/0ea0e2f4_nohash_0.wav\r\n",
      "bed/0ea0e2f4_nohash_1.wav\r\n",
      "bed/105a0eea_nohash_0.wav\r\n",
      "bed/1528225c_nohash_0.wav\r\n",
      "bed/1528225c_nohash_1.wav\r\n",
      "bed/1528225c_nohash_2.wav\r\n",
      "bed/1528225c_nohash_3.wav\r\n",
      "bed/1b4c9b89_nohash_0.wav\r\n",
      "bed/1cb788bc_nohash_0.wav\r\n"
     ]
    }
   ],
   "source": [
    "!head -10 ../input/train/testing_list.txt"
   ]
  },
  {
   "cell_type": "code",
   "execution_count": 10,
   "metadata": {},
   "outputs": [
    {
     "name": "stdout",
     "output_type": "stream",
     "text": [
      "bed/026290a7_nohash_0.wav\r\n",
      "bed/060cd039_nohash_0.wav\r\n",
      "bed/060cd039_nohash_1.wav\r\n",
      "bed/099d52ad_nohash_0.wav\r\n",
      "bed/0e17f595_nohash_0.wav\r\n",
      "bed/0e17f595_nohash_1.wav\r\n",
      "bed/105e72bb_nohash_0.wav\r\n",
      "bed/1657c9fa_nohash_0.wav\r\n",
      "bed/16db1582_nohash_0.wav\r\n",
      "bed/171b56dc_nohash_0.wav\r\n"
     ]
    }
   ],
   "source": [
    "!head -10 ../input/train/validation_list.txt\n"
   ]
  },
  {
   "cell_type": "code",
   "execution_count": 11,
   "metadata": {},
   "outputs": [
    {
     "name": "stdout",
     "output_type": "stream",
     "text": [
      "total 12492\r\n",
      "-rw-r----- 1 ser ser 3045984 Nov 13  2017 doing_the_dishes.wav\r\n",
      "-rw-r----- 1 ser ser 1977906 Nov 13  2017 dude_miaowing.wav\r\n",
      "-rw-r----- 1 ser ser 1960248 Nov 13  2017 exercise_bike.wav\r\n",
      "-rw-r----- 1 ser ser 1920044 Nov 13  2017 pink_noise.wav\r\n",
      "-rw-r----- 1 ser ser     821 Nov 13  2017 README.md\r\n",
      "-rw-r----- 1 ser ser 1957100 Nov 13  2017 running_tap.wav\r\n",
      "-rw-r----- 1 ser ser 1920044 Nov 13  2017 white_noise.wav\r\n"
     ]
    }
   ],
   "source": [
    "!ls -l ../input/train/audio/_background_noise_/\n"
   ]
  },
  {
   "cell_type": "code",
   "execution_count": null,
   "metadata": {},
   "outputs": [],
   "source": []
  }
 ],
 "metadata": {
  "kernelspec": {
   "display_name": "Python 3",
   "language": "python",
   "name": "python3"
  },
  "language_info": {
   "codemirror_mode": {
    "name": "ipython",
    "version": 3
   },
   "file_extension": ".py",
   "mimetype": "text/x-python",
   "name": "python",
   "nbconvert_exporter": "python",
   "pygments_lexer": "ipython3",
   "version": "3.6.4"
  }
 },
 "nbformat": 4,
 "nbformat_minor": 2
}
