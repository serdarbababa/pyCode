{
 "cells": [
  {
   "cell_type": "code",
   "execution_count": 1,
   "metadata": {},
   "outputs": [],
   "source": [
    "    import os, bs4, requests\n",
    "    import pandas as pd    "
   ]
  },
  {
   "cell_type": "code",
   "execution_count": null,
   "metadata": {},
   "outputs": [],
   "source": [
    "PATH = \"path\"#os.path.join(“C:\\\\”,”Users”,”xxx”,”Documents”,”py”) # you need to change to your local path\n",
    "    res = pd.DataFrame()\n",
    "    url = “http://bank-code.net/country/FRANCE-%28FR%29/\"\n",
    "    counter = 0\n",
    "\n",
    "    def table_to_df(table): \n",
    "     return pd.DataFrame([[td.text for td in row.findAll(‘td’)] for row in table.tbody.findAll(‘tr’)])\n",
    "\n",
    "    def next_page(soup): \n",
    "     return “http:” + soup.find(‘a’, attrs={‘rel’:’next’}).get(‘href’)\n",
    "\n",
    "    while True:\n",
    "     print(counter)\n",
    "     page = requests.get(url)\n",
    "     soup = bs4.BeautifulSoup(page.content, ‘lxml’)\n",
    "     table = soup.find(name=’table’, attrs={‘id’:’tableID’})\n",
    "     res = res.append(table_to_df(table))\n",
    "     res.to_csv(os.path.join(os.path.join(PATH,”table.csv”)), index=None, sep=’;’, encoding=’iso-8859–1')\n",
    "     url = next_page(soup)\n",
    "     counter += 1"
   ]
  }
 ],
 "metadata": {
  "kernelspec": {
   "display_name": "Python 3",
   "language": "python",
   "name": "python3"
  },
  "language_info": {
   "codemirror_mode": {
    "name": "ipython",
    "version": 3
   },
   "file_extension": ".py",
   "mimetype": "text/x-python",
   "name": "python",
   "nbconvert_exporter": "python",
   "pygments_lexer": "ipython3",
   "version": "3.6.4"
  }
 },
 "nbformat": 4,
 "nbformat_minor": 2
}
