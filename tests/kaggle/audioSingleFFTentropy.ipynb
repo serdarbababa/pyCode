{
 "cells": [
  {
   "cell_type": "markdown",
   "metadata": {
    "_cell_guid": "0f6270bd-86eb-4fb4-a51d-c333030b1267",
    "_uuid": "a2a634cac985e965d92d987aba035b7aa8d2fcc5"
   },
   "source": [
    "# Single WAV + FFT + Entropy : TensorFlow Speech Recognition Challenge\n",
    "\n",
    "- Reading data is from this Kernel: https://www.kaggle.com/jamesrequa/convert-wav-to-spectogram (all credits to the respective writer) \n"
   ]
  },
  {
   "cell_type": "code",
   "execution_count": 1,
   "metadata": {
    "_cell_guid": "93e1a992-9e00-43a9-ad90-88d9f58f011c",
    "_uuid": "46a550f6614d4f36b3e217220195037044f94c79"
   },
   "outputs": [
    {
     "name": "stdout",
     "output_type": "stream",
     "text": [
      "sample_submission.7z\n",
      "sample_submission.csv\n",
      "test\n",
      "test.7z\n",
      "train\n",
      "train.7z\n",
      "\n"
     ]
    },
    {
     "name": "stderr",
     "output_type": "stream",
     "text": [
      "/home/ser/anaconda3/lib/python3.6/site-packages/h5py/__init__.py:36: FutureWarning: Conversion of the second argument of issubdtype from `float` to `np.floating` is deprecated. In future, it will be treated as `np.float64 == np.dtype(float).type`.\n",
      "  from ._conv import register_converters as _register_converters\n"
     ]
    }
   ],
   "source": [
    "%reset -f\n",
    "__author__ = 'Solomonk: https://www.kaggle.com/solomonk/'\n",
    "\n",
    "import scipy.io\n",
    "import numpy as np\n",
    "import matplotlib\n",
    "import matplotlib.pyplot as plt\n",
    "import numpy\n",
    "import pandas as pd\n",
    "from sklearn.metrics import roc_auc_score, mean_squared_error, roc_curve\n",
    "\n",
    "import numpy\n",
    "import pandas\n",
    "from itertools import combinations\n",
    "\n",
    "from sklearn.preprocessing import OneHotEncoder\n",
    "from sklearn.linear_model import LogisticRegression, Ridge\n",
    "from sklearn.datasets import dump_svmlight_file\n",
    "import numpy as np, h5py \n",
    "\n",
    "import os\n",
    "from pathlib import Path\n",
    "import IPython.display as ipd\n",
    "\n",
    "import numpy as np # linear algebra\n",
    "import pandas as pd # data processing, CSV file I/O (e.g. pd.read_csv)\n",
    "import matplotlib.pyplot as plt\n",
    "from scipy import signal\n",
    "from scipy.io import wavfile\n",
    "%matplotlib inline\n",
    "\n",
    "from subprocess import check_output\n",
    "print(check_output([\"ls\", \"../input\"]).decode(\"utf8\"))"
   ]
  },
  {
   "cell_type": "code",
   "execution_count": 2,
   "metadata": {
    "_cell_guid": "08c47377-b5ae-4449-9925-17e172b68103",
    "_uuid": "33ddba4d8969d3f1a3738aac9b19fda7679cdba5"
   },
   "outputs": [
    {
     "name": "stdout",
     "output_type": "stream",
     "text": [
      "audio\n",
      "LICENSE\n",
      "README.md\n",
      "testing_list.txt\n",
      "validation_list.txt\n",
      "\n"
     ]
    }
   ],
   "source": [
    "print(check_output([\"ls\", \"../input/train\"]).decode(\"utf8\"))\n",
    "folders = os.listdir(\"../input/train/audio\")"
   ]
  },
  {
   "cell_type": "code",
   "execution_count": 3,
   "metadata": {
    "_cell_guid": "b11f1eba-20e6-452b-a7a2-a126e6d2b792",
    "_uuid": "ed2837d2cb4706932d1a9d0f47b7acc2b3830c83"
   },
   "outputs": [
    {
     "name": "stdout",
     "output_type": "stream",
     "text": [
      "Number of labels: 30\n",
      "(64721, 2)\n"
     ]
    }
   ],
   "source": [
    "train_audio_path = '../input/train/audio'\n",
    "\n",
    "train_labels = os.listdir(train_audio_path)\n",
    "train_labels.remove('_background_noise_')\n",
    "print(f'Number of labels: {len(train_labels)}')\n",
    "\n",
    "labels_to_keep = ['yes', 'no', 'up', 'down', 'left',\n",
    "                  'right', 'on', 'off', 'stop', 'go', 'silence']\n",
    "\n",
    "train_file_labels = dict()\n",
    "for label in train_labels:\n",
    "    files = os.listdir(train_audio_path + '/' + label)\n",
    "    for f in files:\n",
    "        train_file_labels[label + '/' + f] = label\n",
    "\n",
    "train = pd.DataFrame.from_dict(train_file_labels, orient='index')\n",
    "train = train.reset_index(drop=False)\n",
    "train = train.rename(columns={'index': 'file', 0: 'folder'})\n",
    "train = train[['folder', 'file']]\n",
    "train = train.sort_values('file')\n",
    "train = train.reset_index(drop=True)\n",
    "print(train.shape)\n",
    "\n",
    "def remove_label_from_file(label, fname):\n",
    "    return fname[len(label)+1:]\n",
    "\n",
    "train['file'] = train.apply(lambda x: remove_label_from_file(*x), axis=1)\n",
    "train['label'] = train['folder'].apply(lambda x: x if x in labels_to_keep else 'unknown')"
   ]
  },
  {
   "cell_type": "code",
   "execution_count": 4,
   "metadata": {
    "_cell_guid": "d0af6bef-20d6-4069-b98a-985ed3b1d072",
    "_uuid": "c0bb6eb1d52dadcbb0ac5ac020d1f88eea538be5"
   },
   "outputs": [],
   "source": [
    "from PIL import Image\n",
    "import numpy as np\n",
    "\n",
    "#---------------------------------------------------------------#\n",
    "def entropy(signal):\n",
    "    '''\n",
    "    function returns entropy of a signal\n",
    "    signal must be a 1-D numpy array\n",
    "    '''\n",
    "    lensig=signal.size\n",
    "    symset=list(set(signal))\n",
    "    numsym=len(symset)\n",
    "    propab=[np.size(signal[signal==i])/(1.0*lensig) for i in symset]\n",
    "    ent=np.sum([p*np.log2(1.0/p) for p in propab])\n",
    "    return ent\n",
    "#---------------------------------------------------------------#    "
   ]
  },
  {
   "cell_type": "markdown",
   "metadata": {
    "_cell_guid": "ee17484f-c32b-4976-ae66-fc5d56addf67",
    "_uuid": "05f8bd447c01c9742cab63ba2cbc8e44d57ae272"
   },
   "source": [
    "# Plot Signal"
   ]
  },
  {
   "cell_type": "code",
   "execution_count": 5,
   "metadata": {
    "_cell_guid": "b41583fb-6856-415b-b724-d22d3198fda7",
    "_uuid": "b8c5c26c4a827b85139b7d3bcbe062c322f62aa0"
   },
   "outputs": [
    {
     "name": "stderr",
     "output_type": "stream",
     "text": [
      "/home/ser/anaconda3/lib/python3.6/site-packages/ipykernel_launcher.py:10: DeprecationWarning: Numeric-style type codes are deprecated and will result in an error in the future.\n",
      "  # Remove the CWD from sys.path while we load stuff.\n",
      "/home/ser/anaconda3/lib/python3.6/site-packages/ipykernel_launcher.py:10: DeprecationWarning: The binary mode of fromstring is deprecated, as it behaves surprisingly on unicode inputs. Use frombuffer instead\n",
      "  # Remove the CWD from sys.path while we load stuff.\n"
     ]
    },
    {
     "data": {
      "image/png": "[encoded data removed]",
      "text/plain": [
       "<matplotlib.figure.Figure at 0x7f88f07913c8>"
      ]
     },
     "metadata": {},
     "output_type": "display_data"
    }
   ],
   "source": [
    "import matplotlib.pyplot as plt\n",
    "import numpy as np\n",
    "import wave\n",
    "import sys\n",
    "\n",
    "spf = wave.open(str(train_audio_path) + '/house/61e50f62_nohash_1.wav','r')\n",
    "\n",
    "#Extract Raw Audio from Wav File\n",
    "signal = spf.readframes(-1)\n",
    "signal = np.fromstring(signal, 'Int16')\n",
    "\n",
    "plt.figure(1)\n",
    "plt.title('Signal Wave...')\n",
    "plt.plot(signal)\n",
    "plt.show()"
   ]
  },
  {
   "cell_type": "markdown",
   "metadata": {
    "_cell_guid": "6c1377b7-d302-4fb3-8d91-4e2c840686aa",
    "_uuid": "c309e7397448e994a08e4ddc925162797caf9893"
   },
   "source": [
    "# Plot FFT"
   ]
  },
  {
   "cell_type": "code",
   "execution_count": 6,
   "metadata": {
    "_cell_guid": "16c047f8-d86d-4c79-8638-13bd088c5b0b",
    "_uuid": "eebc40b3bc0ac69a7dca91db591eb3450f6688d2"
   },
   "outputs": [
    {
     "name": "stdout",
     "output_type": "stream",
     "text": [
      "[ 0.          0.00208281  0.00416563 ... -0.00624844 -0.00416563\n",
      " -0.00208281]\n"
     ]
    },
    {
     "data": {
      "image/png": "[encoded data removed]",
      "text/plain": [
       "<matplotlib.figure.Figure at 0x7f88f0fa57f0>"
      ]
     },
     "metadata": {},
     "output_type": "display_data"
    }
   ],
   "source": [
    "import numpy as np\n",
    "import scipy.io.wavfile\n",
    "import scipy.fftpack\n",
    "\n",
    "t = scipy.linspace(0,120,4000)\n",
    "x = scipy.io.wavfile.read(str(train_audio_path) + '/house/61e50f62_nohash_1.wav')[1]\n",
    "FFT = abs(scipy.fft(x))\n",
    "freqs = scipy.fftpack.fftfreq(signal.size, t[1]-t[0])\n",
    "print (np.array(freqs))\n",
    "\n",
    "%matplotlib inline\n",
    "plt.figure(1)\n",
    "plt.title('Signal FFT...')\n",
    "plt.plot(FFT)\n",
    "plt.show()"
   ]
  },
  {
   "cell_type": "markdown",
   "metadata": {
    "_cell_guid": "02f91708-9cff-49b7-a92f-01338bf3a3b7",
    "_uuid": "f009ba66c06c1072367482332049057ac4eabee1"
   },
   "source": [
    "# Entropy"
   ]
  },
  {
   "cell_type": "code",
   "execution_count": 7,
   "metadata": {
    "_cell_guid": "0ea1b360-096f-4712-a280-7e155590824b",
    "_uuid": "60d34567b0608112eb722cc012cb0eb566afb5bc"
   },
   "outputs": [
    {
     "data": {
      "text/plain": [
       "10.046606813307758"
      ]
     },
     "execution_count": 7,
     "metadata": {},
     "output_type": "execute_result"
    }
   ],
   "source": [
    "x_ent=x.ravel()\n",
    "entropy(x_ent)"
   ]
  },
  {
   "cell_type": "code",
   "execution_count": 22,
   "metadata": {
    "_cell_guid": "278e4613-da8d-48d0-9152-29c206f6e07a",
    "_uuid": "32cfeed14edeb6cee26fa9b1315413983b1c3717"
   },
   "outputs": [],
   "source": [
    "def nextpow2(i):\n",
    "    n = 1\n",
    "    while n < i:\n",
    "        n *= 2\n",
    "    return n\n",
    "    \n",
    "def featurePSD(eegdata, Fs):\n",
    "    # 1. Compute the PSD\n",
    "    winSampleLength, nbCh = len(eegdata), 1\n",
    "\n",
    "    # Apply Hamming window\n",
    "    w = np.hamming(winSampleLength)\n",
    "    dataWinCentered = eegdata - np.mean(eegdata, axis=0) # Remove offset\n",
    "    dataWinCenteredHam = (dataWinCentered.T*w).T\n",
    "\n",
    "    NFFT = nextpow2(winSampleLength)/2\n",
    "    print(NFFT)\n",
    "    Y = np.fft.fft(dataWinCenteredHam, n=NFFT, axis=0)/winSampleLength\n",
    "    PSD = 2*np.abs(Y[0:NFFT/2,:])\n",
    "    f = Fs/2*np.linspace(0,1,NFFT/2)\n",
    "\n",
    "    # SPECTRAL FEATURES\n",
    "    # Average of band powers\n",
    "    # Delta <4\n",
    "    ind_delta, = np.where(f<4)\n",
    "    meanDelta = np.mean(PSD[ind_delta,:],axis=0)\n",
    "    # Theta 4-8\n",
    "    ind_theta, = np.where((f>=4) & (f<=8))\n",
    "    meanTheta = np.mean(PSD[ind_theta,:],axis=0)\n",
    "    # Alpha 8-12\n",
    "    ind_alpha, = np.where((f>=8) & (f<=12))\n",
    "    meanAlpha = np.mean(PSD[ind_alpha,:],axis=0)\n",
    "    # Beta 12-30\n",
    "    ind_beta, = np.where((f>=12) & (f<30))\n",
    "    meanBeta = np.mean(PSD[ind_beta,:],axis=0)\n",
    "    feature_vector = np.concatenate((meanDelta, meanTheta, meanAlpha, meanBeta),axis=0)\n",
    "    feature_vector = np.log10(feature_vector)\n",
    "    return feature_vector"
   ]
  },
  {
   "cell_type": "code",
   "execution_count": 23,
   "metadata": {
    "_cell_guid": "b78d77a6-e881-4f2a-9ad3-b012dcb25528",
    "_uuid": "1c75e12f0195d4ff2122a162f29c457120ed2c2e"
   },
   "outputs": [
    {
     "name": "stdout",
     "output_type": "stream",
     "text": [
      "16000\n",
      "8192.0\n"
     ]
    },
    {
     "ename": "TypeError",
     "evalue": "integer argument expected, got float",
     "output_type": "error",
     "traceback": [
      "\u001b[0;31m---------------------------------------------------------------------------\u001b[0m",
      "\u001b[0;31mTypeError\u001b[0m                                 Traceback (most recent call last)",
      "\u001b[0;32m<ipython-input-23-d002c4ce07ef>\u001b[0m in \u001b[0;36m<module>\u001b[0;34m()\u001b[0m\n\u001b[1;32m      2\u001b[0m \u001b[0msample_rate\u001b[0m\u001b[0;34m,\u001b[0m \u001b[0msamples\u001b[0m \u001b[0;34m=\u001b[0m \u001b[0mwavfile\u001b[0m\u001b[0;34m.\u001b[0m\u001b[0mread\u001b[0m\u001b[0;34m(\u001b[0m\u001b[0mstr\u001b[0m\u001b[0;34m(\u001b[0m\u001b[0mtrain_audio_path\u001b[0m\u001b[0;34m)\u001b[0m \u001b[0;34m+\u001b[0m \u001b[0;34m'/house/61e50f62_nohash_1.wav'\u001b[0m\u001b[0;34m)\u001b[0m\u001b[0;34m\u001b[0m\u001b[0m\n\u001b[1;32m      3\u001b[0m \u001b[0mprint\u001b[0m\u001b[0;34m(\u001b[0m\u001b[0mlen\u001b[0m\u001b[0;34m(\u001b[0m\u001b[0msamples\u001b[0m\u001b[0;34m)\u001b[0m\u001b[0;34m)\u001b[0m\u001b[0;34m\u001b[0m\u001b[0m\n\u001b[0;32m----> 4\u001b[0;31m \u001b[0mpsd\u001b[0m\u001b[0;34m=\u001b[0m\u001b[0mfeaturePSD\u001b[0m \u001b[0;34m(\u001b[0m\u001b[0msamples\u001b[0m\u001b[0;34m,\u001b[0m \u001b[0;36m16000\u001b[0m\u001b[0;34m)\u001b[0m\u001b[0;34m\u001b[0m\u001b[0m\n\u001b[0m\u001b[1;32m      5\u001b[0m \u001b[0;34m\u001b[0m\u001b[0m\n\u001b[1;32m      6\u001b[0m \u001b[0mplt\u001b[0m\u001b[0;34m.\u001b[0m\u001b[0mplot\u001b[0m\u001b[0;34m(\u001b[0m\u001b[0msamples\u001b[0m\u001b[0;34m)\u001b[0m\u001b[0;34m\u001b[0m\u001b[0m\n",
      "\u001b[0;32m<ipython-input-22-c0803151232d>\u001b[0m in \u001b[0;36mfeaturePSD\u001b[0;34m(eegdata, Fs)\u001b[0m\n\u001b[1;32m     16\u001b[0m     \u001b[0mNFFT\u001b[0m \u001b[0;34m=\u001b[0m \u001b[0mnextpow2\u001b[0m\u001b[0;34m(\u001b[0m\u001b[0mwinSampleLength\u001b[0m\u001b[0;34m)\u001b[0m\u001b[0;34m/\u001b[0m\u001b[0;36m2\u001b[0m\u001b[0;34m\u001b[0m\u001b[0m\n\u001b[1;32m     17\u001b[0m     \u001b[0mprint\u001b[0m\u001b[0;34m(\u001b[0m\u001b[0mNFFT\u001b[0m\u001b[0;34m)\u001b[0m\u001b[0;34m\u001b[0m\u001b[0m\n\u001b[0;32m---> 18\u001b[0;31m     \u001b[0mY\u001b[0m \u001b[0;34m=\u001b[0m \u001b[0mnp\u001b[0m\u001b[0;34m.\u001b[0m\u001b[0mfft\u001b[0m\u001b[0;34m.\u001b[0m\u001b[0mfft\u001b[0m\u001b[0;34m(\u001b[0m\u001b[0mdataWinCenteredHam\u001b[0m\u001b[0;34m,\u001b[0m \u001b[0mn\u001b[0m\u001b[0;34m=\u001b[0m\u001b[0mNFFT\u001b[0m\u001b[0;34m,\u001b[0m \u001b[0maxis\u001b[0m\u001b[0;34m=\u001b[0m\u001b[0;36m0\u001b[0m\u001b[0;34m)\u001b[0m\u001b[0;34m/\u001b[0m\u001b[0mwinSampleLength\u001b[0m\u001b[0;34m\u001b[0m\u001b[0m\n\u001b[0m\u001b[1;32m     19\u001b[0m     \u001b[0mPSD\u001b[0m \u001b[0;34m=\u001b[0m \u001b[0;36m2\u001b[0m\u001b[0;34m*\u001b[0m\u001b[0mnp\u001b[0m\u001b[0;34m.\u001b[0m\u001b[0mabs\u001b[0m\u001b[0;34m(\u001b[0m\u001b[0mY\u001b[0m\u001b[0;34m[\u001b[0m\u001b[0;36m0\u001b[0m\u001b[0;34m:\u001b[0m\u001b[0mNFFT\u001b[0m\u001b[0;34m/\u001b[0m\u001b[0;36m2\u001b[0m\u001b[0;34m,\u001b[0m\u001b[0;34m:\u001b[0m\u001b[0;34m]\u001b[0m\u001b[0;34m)\u001b[0m\u001b[0;34m\u001b[0m\u001b[0m\n\u001b[1;32m     20\u001b[0m     \u001b[0mf\u001b[0m \u001b[0;34m=\u001b[0m \u001b[0mFs\u001b[0m\u001b[0;34m/\u001b[0m\u001b[0;36m2\u001b[0m\u001b[0;34m*\u001b[0m\u001b[0mnp\u001b[0m\u001b[0;34m.\u001b[0m\u001b[0mlinspace\u001b[0m\u001b[0;34m(\u001b[0m\u001b[0;36m0\u001b[0m\u001b[0;34m,\u001b[0m\u001b[0;36m1\u001b[0m\u001b[0;34m,\u001b[0m\u001b[0mNFFT\u001b[0m\u001b[0;34m/\u001b[0m\u001b[0;36m2\u001b[0m\u001b[0;34m)\u001b[0m\u001b[0;34m\u001b[0m\u001b[0m\n",
      "\u001b[0;32m~/anaconda3/lib/python3.6/site-packages/numpy/fft/fftpack.py\u001b[0m in \u001b[0;36mfft\u001b[0;34m(a, n, axis, norm)\u001b[0m\n\u001b[1;32m    190\u001b[0m     \u001b[0;32mif\u001b[0m \u001b[0mn\u001b[0m \u001b[0;32mis\u001b[0m \u001b[0;32mNone\u001b[0m\u001b[0;34m:\u001b[0m\u001b[0;34m\u001b[0m\u001b[0m\n\u001b[1;32m    191\u001b[0m         \u001b[0mn\u001b[0m \u001b[0;34m=\u001b[0m \u001b[0ma\u001b[0m\u001b[0;34m.\u001b[0m\u001b[0mshape\u001b[0m\u001b[0;34m[\u001b[0m\u001b[0maxis\u001b[0m\u001b[0;34m]\u001b[0m\u001b[0;34m\u001b[0m\u001b[0m\n\u001b[0;32m--> 192\u001b[0;31m     \u001b[0moutput\u001b[0m \u001b[0;34m=\u001b[0m \u001b[0m_raw_fft\u001b[0m\u001b[0;34m(\u001b[0m\u001b[0ma\u001b[0m\u001b[0;34m,\u001b[0m \u001b[0mn\u001b[0m\u001b[0;34m,\u001b[0m \u001b[0maxis\u001b[0m\u001b[0;34m,\u001b[0m \u001b[0mfftpack\u001b[0m\u001b[0;34m.\u001b[0m\u001b[0mcffti\u001b[0m\u001b[0;34m,\u001b[0m \u001b[0mfftpack\u001b[0m\u001b[0;34m.\u001b[0m\u001b[0mcfftf\u001b[0m\u001b[0;34m,\u001b[0m \u001b[0m_fft_cache\u001b[0m\u001b[0;34m)\u001b[0m\u001b[0;34m\u001b[0m\u001b[0m\n\u001b[0m\u001b[1;32m    193\u001b[0m     \u001b[0;32mif\u001b[0m \u001b[0m_unitary\u001b[0m\u001b[0;34m(\u001b[0m\u001b[0mnorm\u001b[0m\u001b[0;34m)\u001b[0m\u001b[0;34m:\u001b[0m\u001b[0;34m\u001b[0m\u001b[0m\n\u001b[1;32m    194\u001b[0m         \u001b[0moutput\u001b[0m \u001b[0;34m*=\u001b[0m \u001b[0;36m1\u001b[0m \u001b[0;34m/\u001b[0m \u001b[0msqrt\u001b[0m\u001b[0;34m(\u001b[0m\u001b[0mn\u001b[0m\u001b[0;34m)\u001b[0m\u001b[0;34m\u001b[0m\u001b[0m\n",
      "\u001b[0;32m~/anaconda3/lib/python3.6/site-packages/numpy/fft/fftpack.py\u001b[0m in \u001b[0;36m_raw_fft\u001b[0;34m(a, n, axis, init_function, work_function, fft_cache)\u001b[0m\n\u001b[1;32m     63\u001b[0m     \u001b[0mwsave\u001b[0m \u001b[0;34m=\u001b[0m \u001b[0mfft_cache\u001b[0m\u001b[0;34m.\u001b[0m\u001b[0mpop_twiddle_factors\u001b[0m\u001b[0;34m(\u001b[0m\u001b[0mn\u001b[0m\u001b[0;34m)\u001b[0m\u001b[0;34m\u001b[0m\u001b[0m\n\u001b[1;32m     64\u001b[0m     \u001b[0;32mif\u001b[0m \u001b[0mwsave\u001b[0m \u001b[0;32mis\u001b[0m \u001b[0;32mNone\u001b[0m\u001b[0;34m:\u001b[0m\u001b[0;34m\u001b[0m\u001b[0m\n\u001b[0;32m---> 65\u001b[0;31m         \u001b[0mwsave\u001b[0m \u001b[0;34m=\u001b[0m \u001b[0minit_function\u001b[0m\u001b[0;34m(\u001b[0m\u001b[0mn\u001b[0m\u001b[0;34m)\u001b[0m\u001b[0;34m\u001b[0m\u001b[0m\n\u001b[0m\u001b[1;32m     66\u001b[0m \u001b[0;34m\u001b[0m\u001b[0m\n\u001b[1;32m     67\u001b[0m     \u001b[0;32mif\u001b[0m \u001b[0ma\u001b[0m\u001b[0;34m.\u001b[0m\u001b[0mshape\u001b[0m\u001b[0;34m[\u001b[0m\u001b[0maxis\u001b[0m\u001b[0;34m]\u001b[0m \u001b[0;34m!=\u001b[0m \u001b[0mn\u001b[0m\u001b[0;34m:\u001b[0m\u001b[0;34m\u001b[0m\u001b[0m\n",
      "\u001b[0;31mTypeError\u001b[0m: integer argument expected, got float"
     ]
    }
   ],
   "source": [
    "#x = scipy.io.wavfile.read(str(train_audio_path) + '/house/61e50f62_nohash_1.wav')\n",
    "sample_rate, samples = wavfile.read(str(train_audio_path) + '/house/61e50f62_nohash_1.wav')\n",
    "print(len(samples))\n",
    "psd=featurePSD (samples, 16000)\n",
    "\n",
    "plt.plot(samples)\n",
    "sample_rate\n",
    "\n"
   ]
  },
  {
   "cell_type": "code",
   "execution_count": 17,
   "metadata": {
    "_cell_guid": "b0c68516-7e45-48bd-b5e8-272ad3b0b469",
    "_uuid": "9d2f0e697ef5e27bc6fbc91c7f97390e41b36571"
   },
   "outputs": [],
   "source": [
    "# NE"
   ]
  },
  {
   "cell_type": "code",
   "execution_count": null,
   "metadata": {},
   "outputs": [],
   "source": []
  }
 ],
 "metadata": {
  "kernelspec": {
   "display_name": "Python 3",
   "language": "python",
   "name": "python3"
  },
  "language_info": {
   "codemirror_mode": {
    "name": "ipython",
    "version": 3
   },
   "file_extension": ".py",
   "mimetype": "text/x-python",
   "name": "python",
   "nbconvert_exporter": "python",
   "pygments_lexer": "ipython3",
   "version": "3.6.4"
  }
 },
 "nbformat": 4,
 "nbformat_minor": 1
}
