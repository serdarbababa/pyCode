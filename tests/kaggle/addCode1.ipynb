{
 "cells": [
  {
   "cell_type": "code",
   "execution_count": null,
   "metadata": {},
   "outputs": [
    {
     "name": "stdout",
     "output_type": "stream",
     "text": [
      "Loading data...\n",
      "Preprocessing...\n"
     ]
    },
    {
     "data": {
      "text/html": [
       "<table>\n",
       "<thead><tr><th></th><th scope=col>used</th><th scope=col>(Mb)</th><th scope=col>gc trigger</th><th scope=col>(Mb)</th><th scope=col>max used</th><th scope=col>(Mb)</th></tr></thead>\n",
       "<tbody>\n",
       "\t<tr><th scope=row>Ncells</th><td>  1619440 </td><td>  86.5    </td><td>   3205452</td><td> 171.2    </td><td>   2913914</td><td>  155.7   </td></tr>\n",
       "\t<tr><th scope=row>Vcells</th><td>228234043 </td><td>1741.3    </td><td>1116410344</td><td>8517.6    </td><td>1391927921</td><td>10619.6   </td></tr>\n",
       "</tbody>\n",
       "</table>\n"
      ],
      "text/latex": [
       "\\begin{tabular}{r|llllll}\n",
       "  & used & (Mb) & gc trigger & (Mb) & max used & (Mb)\\\\\n",
       "\\hline\n",
       "\tNcells &   1619440  &   86.5     &    3205452 &  171.2     &    2913914 &   155.7   \\\\\n",
       "\tVcells & 228234043  & 1741.3     & 1116410344 & 8517.6     & 1391927921 & 10619.6   \\\\\n",
       "\\end{tabular}\n"
      ],
      "text/markdown": [
       "\n",
       "| <!--/--> | used | (Mb) | gc trigger | (Mb) | max used | (Mb) | \n",
       "|---|---|\n",
       "| Ncells |   1619440  |   86.5     |    3205452 |  171.2     |    2913914 |   155.7    | \n",
       "| Vcells | 228234043  | 1741.3     | 1116410344 | 8517.6     | 1391927921 | 10619.6    | \n",
       "\n",
       "\n"
      ],
      "text/plain": [
       "       used      (Mb)   gc trigger (Mb)   max used   (Mb)   \n",
       "Ncells   1619440   86.5    3205452  171.2    2913914   155.7\n",
       "Vcells 228234043 1741.3 1116410344 8517.6 1391927921 10619.6"
      ]
     },
     "metadata": {},
     "output_type": "display_data"
    },
    {
     "data": {},
     "metadata": {},
     "output_type": "display_data"
    },
    {
     "name": "stdout",
     "output_type": "stream",
     "text": [
      "Preparing data...\n"
     ]
    }
   ],
   "source": [
    "library(data.table)\n",
    "library(xgboost)\n",
    "library(fasttime)\n",
    "\n",
    "#---------------------------\n",
    "cat(\"Loading data...\\n\")\n",
    "train <- fread(\"../inputAdd/train.csv\", drop = c(\"attributed_time\"), showProgress=F)[(.N - 50e6):.N] \n",
    "test <- fread(\"../inputAdd/test.csv\", drop = c(\"click_id\"), showProgress=F)\n",
    "\n",
    "set.seed(0)\n",
    "train <- train[sample(.N, 30e6), ]\n",
    "\n",
    "#---------------------------\n",
    "cat(\"Preprocessing...\\n\")\n",
    "y <- train$is_attributed\n",
    "tri <- 1:nrow(train)\n",
    "tr_te <- rbind(train, test, fill = T)\n",
    "\n",
    "rm(train, test); gc()\n",
    "\n",
    "tr_te[, `:=`(hour = hour(click_time),\n",
    "             min = minute(click_time),\n",
    "             click_time = fastPOSIXct(click_time))\n",
    "     ][, next_clk := as.integer(click_time - shift(click_time))\n",
    "     ][, click_time := NULL\n",
    "     ][, ip_f := .N, by = \"ip\"\n",
    "     ][, app_f := .N, by = \"app\"\n",
    "     ][, channel_f := .N, by = \"channel\"\n",
    "     ][, device_f := .N, by = \"device\"\n",
    "     ][, os_f := .N, by = \"os\"\n",
    "     ][, app_f := .N, by = \"app\"\n",
    "     ][, ip_app_f := .N, by = \"ip,app\"\n",
    "     ][, ip_dev_f := .N, by = \"ip,device\"\n",
    "     ][, ip_os_f := .N, by = \"ip,os\"\n",
    "     ][, ip_chan_f := .N, by = \"ip,channel\"\n",
    "     ][, c(\"ip\", \"is_attributed\") := NULL]\n",
    "\n",
    "#---------------------------\n",
    "cat(\"Preparing data...\\n\")\n",
    "tr_te[] <- lapply(tr_te, as.numeric)\n",
    "#train[] <- lapply(train, as.numeric)\n",
    "#xgb.DMatrix(data=data.matrix(train))\n",
    "\n",
    "dtest <- xgb.DMatrix(data = data.matrix(tr_te[-tri]))\n",
    "tr_te <- tr_te[tri]; gc()\n",
    "tri <- caret::createDataPartition(y, p = 0.9, list = F)\n",
    "dtrain <- xgb.DMatrix(data = data.matrix(tr_te[tri]), label = y[tri])\n",
    "dval <- xgb.DMatrix(data = data.matrix(tr_te[-tri]), label = y[-tri])\n",
    "cols <- colnames(tr_te)\n",
    "\n",
    "rm(tr_te, y, tri); gc()\n",
    "\n",
    "#---------------------------\n",
    "cat(\"Training model...\\n\")\n",
    "p <- list(objective = \"binary:logistic\",\n",
    "          booster = \"gbtree\",\n",
    "          eval_metric = \"auc\",\n",
    "          nthread = 8,\n",
    "          eta = 0.07,\n",
    "          max_depth = 4,\n",
    "          min_child_weight = 96,\n",
    "          gamma = 6.1142,\n",
    "          subsample = 1,\n",
    "          colsample_bytree = 0.5962,\n",
    "          colsample_bylevel = 0.5214,\n",
    "          alpha = 0,\n",
    "          lambda = 21.0033,\n",
    "          max_delta_step = 5.0876,\n",
    "          scale_pos_weight = 150,\n",
    "          nrounds = 2000)\n",
    "\n",
    "m_xgb <- xgb.train(p, dtrain, p$nrounds, list(val = dval), print_every_n = 50, early_stopping_rounds = 150)\n",
    "\n",
    "(imp <- xgb.importance(cols, model=m_xgb))\n",
    "xgb.plot.importance(imp, top_n = 30)\n",
    "\n",
    "#---------------------------\n",
    "cat(\"Creating submission file...\\n\")\n",
    "subm <- fread(\"../input/sample_submission.csv\") \n",
    "subm[, is_attributed := round(predict(m_xgb, dtest), 6)]\n",
    "fwrite(subm, paste0(\"dt_xgb_\", m_xgb$best_score, \".csv\"))"
   ]
  },
  {
   "cell_type": "code",
   "execution_count": 5,
   "metadata": {},
   "outputs": [
    {
     "name": "stderr",
     "output_type": "stream",
     "text": [
      "Updating HTML index of packages in '.Library'\n",
      "Making 'packages.html' ... done\n"
     ]
    }
   ],
   "source": [
    "install.packages(\"fasttime\")"
   ]
  },
  {
   "cell_type": "code",
   "execution_count": null,
   "metadata": {},
   "outputs": [],
   "source": []
  }
 ],
 "metadata": {
  "kernelspec": {
   "display_name": "R",
   "language": "R",
   "name": "ir"
  },
  "language_info": {
   "codemirror_mode": "r",
   "file_extension": ".r",
   "mimetype": "text/x-r-source",
   "name": "R",
   "pygments_lexer": "r",
   "version": "3.4.3"
  }
 },
 "nbformat": 4,
 "nbformat_minor": 2
}
